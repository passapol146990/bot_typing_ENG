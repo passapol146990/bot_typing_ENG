{
 "cells": [
  {
   "cell_type": "code",
   "execution_count": 8,
   "metadata": {},
   "outputs": [],
   "source": [
    "from selenium import webdriver\n",
    "from selenium.webdriver.common.by import By\n",
    "from selenium.webdriver.common.keys import Keys\n",
    "import time\n",
    "import bs4\n",
    "import string\n",
    "all_characters = list(string.ascii_lowercase + string.ascii_uppercase + string.punctuation + string.digits)"
   ]
  },
  {
   "cell_type": "code",
   "execution_count": 2,
   "metadata": {},
   "outputs": [],
   "source": [
    "url = 'https://www.speedtypingonline.com/typing-test'\n",
    "drive = webdriver.Edge()\n",
    "drive.get(url)"
   ]
  },
  {
   "cell_type": "code",
   "execution_count": 18,
   "metadata": {},
   "outputs": [
    {
     "name": "stdout",
     "output_type": "stream",
     "text": [
      "successfully\n"
     ]
    }
   ],
   "source": [
    "\n",
    "write_time = 0\n",
    "# 1\n",
    "soup = bs4.BeautifulSoup(drive.page_source,'html.parser')\n",
    "selected_element = soup.select_one(\"html > body > div:nth-of-type(3) > div:nth-of-type(3) > div:nth-of-type(1) > div:nth-of-type(3) > div:nth-of-type(3) > div:nth-of-type(4)\")\n",
    "if selected_element:\n",
    "    text = selected_element.get_text()\n",
    "for i in text:\n",
    "    selected_element = soup.select_one(\"html > body > div:nth-of-type(3) > div:nth-of-type(3) > div:nth-of-type(1) > div:nth-of-type(3) > div:nth-of-type(2) > div:nth-of-type(1) > div:nth-of-type(2)\")\n",
    "    time_now = selected_element.get_text()[1:6]\n",
    "    time.sleep(write_time)\n",
    "    if str(time_now) == \"00:00\":\n",
    "        break\n",
    "    time.sleep(write_time)\n",
    "    if i not in all_characters:\n",
    "        drive.find_element(By.XPATH,'//*[@id=\"blockDivContainer\"]').send_keys(Keys.SPACE)\n",
    "    else:\n",
    "        drive.find_element(By.XPATH,'//*[@id=\"blockDivContainer\"]').send_keys(i)\n",
    "\n",
    "# 1-3\n",
    "soup = bs4.BeautifulSoup(drive.page_source,'html.parser')\n",
    "for i in [1,2,3]:\n",
    "    selected_element = soup.select_one(\"html > body > div:nth-of-type(3) > div:nth-of-type(3) > div:nth-of-type(1) > div:nth-of-type(3) > div:nth-of-type(3) > div:nth-of-type(4) > div:nth-of-type(\"+str(i)+\")\")\n",
    "    if selected_element:\n",
    "        text = selected_element.get_text()\n",
    "    for i in text:\n",
    "        selected_element = soup.select_one(\"html > body > div:nth-of-type(3) > div:nth-of-type(3) > div:nth-of-type(1) > div:nth-of-type(3) > div:nth-of-type(2) > div:nth-of-type(1) > div:nth-of-type(2)\")\n",
    "        time_now = selected_element.get_text()[1:6]\n",
    "        if str(time_now) == \"00:00\":\n",
    "            break\n",
    "        time.sleep(write_time)\n",
    "        if i not in all_characters:\n",
    "            drive.find_element(By.XPATH,'//*[@id=\"blockDivContainer\"]').send_keys(Keys.SPACE)\n",
    "        else:\n",
    "            drive.find_element(By.XPATH,'//*[@id=\"blockDivContainer\"]').send_keys(i)\n",
    "\n",
    "list_ok = [[4,1,2],[3,4,1],[2,3,4],[1,2,3]]\n",
    "checkss = 1\n",
    "while checkss > 0:\n",
    "    if checkss == 0:break\n",
    "    for i1 in list_ok:\n",
    "        if checkss == 0:break\n",
    "        soup = bs4.BeautifulSoup(drive.page_source,'html.parser')\n",
    "        for i2 in i1:\n",
    "            if checkss == 0:break\n",
    "            selected_element = soup.select_one(\"html > body > div:nth-of-type(3) > div:nth-of-type(3) > div:nth-of-type(1) > div:nth-of-type(3) > div:nth-of-type(3) > div:nth-of-type(4) > div:nth-of-type(\"+str(i2)+\")\")\n",
    "            if selected_element:\n",
    "                text = selected_element.get_text()\n",
    "            for i3 in text:\n",
    "                selected_element = soup.select_one(\"html > body > div:nth-of-type(3) > div:nth-of-type(3) > div:nth-of-type(1) > div:nth-of-type(3) > div:nth-of-type(2) > div:nth-of-type(1) > div:nth-of-type(2)\")\n",
    "                time_now = selected_element.get_text()[1:6]\n",
    "                if str(time_now) == \"00:00\":\n",
    "                    checkss = 0\n",
    "                    break\n",
    "                time.sleep(write_time)\n",
    "                if i3 not in all_characters:\n",
    "                    drive.find_element(By.XPATH,'//*[@id=\"blockDivContainer\"]').send_keys(Keys.SPACE)\n",
    "                else:\n",
    "                    drive.find_element(By.XPATH,'//*[@id=\"blockDivContainer\"]').send_keys(i3)\n",
    "print('successfully')\n"
   ]
  }
 ],
 "metadata": {
  "kernelspec": {
   "display_name": "Python 3",
   "language": "python",
   "name": "python3"
  },
  "language_info": {
   "codemirror_mode": {
    "name": "ipython",
    "version": 3
   },
   "file_extension": ".py",
   "mimetype": "text/x-python",
   "name": "python",
   "nbconvert_exporter": "python",
   "pygments_lexer": "ipython3",
   "version": "3.12.8"
  },
  "orig_nbformat": 4
 },
 "nbformat": 4,
 "nbformat_minor": 2
}
